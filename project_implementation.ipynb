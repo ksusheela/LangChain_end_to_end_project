{
 "cells": [
  {
   "cell_type": "code",
   "execution_count": 2,
   "id": "516b3ec7-e74d-4f10-a2e5-d878fd571783",
   "metadata": {},
   "outputs": [],
   "source": [
    "import pandas as pd\n",
    "import PyPDF2\n",
    "import json\n",
    "import traceback\n",
    "import os"
   ]
  },
  {
   "cell_type": "code",
   "execution_count": 3,
   "id": "42847d1f-4d7f-4234-a92a-0e4491b1a5af",
   "metadata": {},
   "outputs": [],
   "source": [
    "from langchain.llms import OpenAI\n",
    "from langchain.chat_models import ChatOpenAI\n",
    "from langchain.prompts import PromptTemplate\n",
    "from langchain.chains import LLMChain\n",
    "from langchain.chains import SequentialChain\n",
    "from langchain.callbacks import get_openai_callback "
   ]
  },
  {
   "cell_type": "markdown",
   "id": "88dd821d-c924-4b10-b9ff-56ba5f38dd75",
   "metadata": {},
   "source": [
    "## Define your API to access the model -> gpt-3.5-turbo model"
   ]
  },
  {
   "cell_type": "code",
   "execution_count": 4,
   "id": "c65ac9c1-89b7-4a54-99c5-a3820ca613b8",
   "metadata": {},
   "outputs": [],
   "source": [
    "# Define the API key directly in the script\n",
    "OPENAI_API_KEY = \"paste_your_api_key\"  # Replace with your actual API key\n",
    "\n",
    "# Set the environment variable\n",
    "os.environ[\"OPENAI_API_KEY\"] = OPENAI_API_KEY"
   ]
  },
  {
   "cell_type": "markdown",
   "id": "8805b8a0-bbd6-465e-ac6c-ee21e2fdf766",
   "metadata": {},
   "source": [
    "## Create the instance for LLM with API key"
   ]
  },
  {
   "cell_type": "code",
   "execution_count": 8,
   "id": "d03a5088-4543-4b89-a2de-a0d8cc89b269",
   "metadata": {},
   "outputs": [],
   "source": [
    "llm = ChatOpenAI( model = \"gpt-3.5-turbo\", temperature = 0.7)"
   ]
  },
  {
   "cell_type": "code",
   "execution_count": 9,
   "id": "6acc9584-ed9d-4110-a84a-310254036773",
   "metadata": {},
   "outputs": [],
   "source": [
    "# sample response json for prompt template to generate quiz\n",
    "\n",
    "RESPONSE_JSON = { \n",
    "    \"1\": {\n",
    "        \"mcq\": \"multiple choice question\",\n",
    "        \"options\": {\n",
    "            \"a\": \"choice here\",\n",
    "            \"b\": \"choice here\",\n",
    "            \"c\": \"choice here\",\n",
    "            \"d\": \"choice here\",\n",
    "        },\n",
    "        \"correct\": \"correct answer\",\n",
    "    },\n",
    "    \"2\": {\n",
    "        \"mcq\": \"multiple choice question\",\n",
    "        \"options\": {\n",
    "            \"a\": \"choice here\",\n",
    "            \"b\": \"choice here\",\n",
    "            \"c\": \"choice here\",\n",
    "            \"d\": \"choice here\",\n",
    "        },\n",
    "        \"correct\": \"correct answer\",\n",
    "    },\n",
    "    \"3\": {\n",
    "        \"mcq\": \"multiple choice question\",\n",
    "        \"options\": {\n",
    "            \"a\": \"choice here\",\n",
    "            \"b\": \"choice here\",\n",
    "            \"c\": \"choice here\",\n",
    "            \"d\": \"choice here\",\n",
    "        },\n",
    "        \"correct\": \"correct answer\",\n",
    "    },\n",
    "}"
   ]
  },
  {
   "cell_type": "markdown",
   "id": "b735939c-d871-4816-bf95-6901567b44a1",
   "metadata": {},
   "source": [
    "### Prompt template to generate a quiz from the text ( blog / PDF file / word document )"
   ]
  },
  {
   "cell_type": "code",
   "execution_count": 10,
   "id": "4a90d0fc-b26e-4f78-8f13-dbaa95ea1f7c",
   "metadata": {},
   "outputs": [],
   "source": [
    "TEMPLATE = \"\"\"\n",
    "Text:{text}\n",
    "You are an expert MCQ maker. Given the above text, it is your job to \\\n",
    "create a quiz  of {number} multiple choice questions for {subject} students in {tone} tone. \n",
    "Make sure the questions are not repeated and check all the questions to be conforming the text as well.\n",
    "Make sure to format your response like  RESPONSE_JSON below  and use it as a guide. \\\n",
    "Ensure to make {number} MCQs\n",
    "### RESPONSE_JSON\n",
    "{response_json}\n",
    "\n",
    "\"\"\""
   ]
  },
  {
   "cell_type": "code",
   "execution_count": 11,
   "id": "1b4ca4b9-083a-4f46-96c7-9c508dafd18f",
   "metadata": {},
   "outputs": [],
   "source": [
    "quiz_generation_prompt = PromptTemplate(\n",
    "    input_variables = [\"text\", \"number\", \"subject\", \"tone\", \"response_json\"],\n",
    "    template = TEMPLATE\n",
    ")"
   ]
  },
  {
   "cell_type": "code",
   "execution_count": 13,
   "id": "e5a8a841-a6be-4374-b1f3-92f08d753e94",
   "metadata": {},
   "outputs": [],
   "source": [
    "## Define LLM chain to generate the Quiz\n",
    "quiz_chain = LLMChain(\n",
    "    llm = llm,\n",
    "    prompt = quiz_generation_prompt,\n",
    "    output_key = \"quiz\",\n",
    "    verbose = True\n",
    ")"
   ]
  },
  {
   "cell_type": "code",
   "execution_count": null,
   "id": "f446639c-2e58-402d-b2e5-4dcff7125cf2",
   "metadata": {},
   "outputs": [],
   "source": [
    "### prompt template 2 to generate Quiz from the text\n"
   ]
  },
  {
   "cell_type": "code",
   "execution_count": 14,
   "id": "a074c647-1675-41c0-9e9d-2bbb0ca3960d",
   "metadata": {},
   "outputs": [],
   "source": [
    "## prompt template used to evaluate the complexity of the QUIZ\n",
    "quiz_evalution_prompt = PromptTemplate(\n",
    "    input_variables = [\"subject\", \"quiz\"],\n",
    "    template = TEMPLATE\n",
    ")"
   ]
  },
  {
   "cell_type": "code",
   "execution_count": 15,
   "id": "4852908d-0c43-442c-894d-ddd9b361e7cf",
   "metadata": {},
   "outputs": [],
   "source": [
    "## Review the chain to evaluate the quiz and give the feedback\n",
    "review_chain = LLMChain(\n",
    "    llm = llm,\n",
    "    prompt = quiz_evalution_prompt,\n",
    "    output_key = \"review\",\n",
    "    verbose = True\n",
    ")"
   ]
  },
  {
   "cell_type": "code",
   "execution_count": 17,
   "id": "4f6c963a-4612-4276-9bb0-7b6c61a459df",
   "metadata": {},
   "outputs": [],
   "source": [
    "## Dequential chain to generate and evaluate the mcq questions\n",
    "generate_evaluate_chain = SequentialChain(\n",
    "    chains = [quiz_chain, review_chain],\n",
    "    input_variables = [\"text\", \"number\", \"subject\", \"tone\", \"response_json\"],\n",
    "    output_variables = [\"quiz\", \"review\"],\n",
    "    verbose = True\n",
    ")"
   ]
  },
  {
   "cell_type": "code",
   "execution_count": 19,
   "id": "3ba39d5e-f7da-4bcd-9385-e58615152f8e",
   "metadata": {},
   "outputs": [
    {
     "data": {
      "text/plain": [
       "'C:\\\\Users\\\\shiva\\\\Desktop\\\\LLM_MCQ_generation_project\\\\mcq_training_data.txt'"
      ]
     },
     "execution_count": 19,
     "metadata": {},
     "output_type": "execute_result"
    }
   ],
   "source": [
    "# File path so that we can generate questions based upon the given data\n",
    "file_path = r\"C:\\Users\\shiva\\Desktop\\LLM_MCQ_generation_project\\mcq_training_data.txt\"\n",
    "file_path"
   ]
  },
  {
   "cell_type": "code",
   "execution_count": 20,
   "id": "237ecefe-0a23-410a-af4c-cd01ed36ceb3",
   "metadata": {},
   "outputs": [
    {
     "name": "stdout",
     "output_type": "stream",
     "text": [
      "Machine learning (ML) is a field of study in artificial intelligence concerned with the development and study of statistical algorithms that can learn from data and generalize to unseen data and thus perform tasks without explicit instructions.[1] Recently, artificial neural networks have been able to surpass many previous approaches in performance.[2]\n",
      "\n",
      "ML finds application in many fields, including natural language processing, computer vision, speech recognition, email filtering, agriculture, and medicine. When applied to business problems, it is known under the name predictive analytics. Although not all machine learning is statistically based, computational statistics is an important source of the field's methods.\n",
      "\n",
      "The mathematical foundations of ML are provided by mathematical optimization (mathematical programming) methods. Data mining is a related (parallel) field of study, focusing on exploratory data analysis (EDA) through unsupervised learning.\n",
      "\n",
      "From a theoretical viewpoint, probably approximately correct (PAC) learning provides a framework for describing machine learning.\n",
      "\n",
      "History\n",
      "\n",
      "The term machine learning was coined in 1959 by Arthur Samuel, an IBM employee and pioneer in the field of computer gaming and artificial intelligence.The synonym self-teaching computers was also used in this time period.\n",
      "\n",
      "Although the earliest machine learning model was introduced in the 1950s when Arthur Samuel invented a program that calculated the winning chance in checkers for each side, the history of machine learning roots back to decades of human desire and effort to study human cognitive processes. In 1949, Canadian psychologist Donald Hebb published the book The Organization of Behavior, in which he introduced a theoretical neural structure formed by certain interactions among nerve cells. Hebb's model of neurons interacting with one another set a groundwork for how AIs and machine learning algorithms work under nodes, or artificial neurons used by computers to communicate data. Other researchers who have studied human cognitive systems contributed to the modern machine learning technologies as well, including logician Walter Pitts and Warren McCulloch, who proposed the early mathematical models of neural networks to come up with algorithms that mirror human thought processes.\n",
      "\n",
      "By the early 1960s an experimental \"learning machine\" with punched tape memory, called Cybertron, had been developed by Raytheon Company to analyze sonar signals, electrocardiograms, and speech patterns using rudimentary reinforcement learning. It was repetitively \"trained\" by a human operator/teacher to recognize patterns and equipped with a \"goof\" button to cause it to reevaluate incorrect decisions.A representative book on research into machine learning during the 1960s was Nilsson's book on Learning Machines, dealing mostly with machine learning for pattern classification.Interest related to pattern recognition continued into the 1970s, as described by Duda and Hart in 1973. In 1981 a report was given on using teaching strategies so that an artificial neural network learns to recognize 40 characters (26 letters, 10 digits, and 4 special symbols) from a computer terminal.\n",
      "\n",
      "Tom M. Mitchell provided a widely quoted, more formal definition of the algorithms studied in the machine learning field: \"A computer program is said to learn from experience E with respect to some class of tasks T and performance measure P if its performance at tasks in T, as measured by P, improves with experience E.\" This definition of the tasks in which machine learning is concerned offers a fundamentally operational definition rather than defining the field in cognitive terms. This follows Alan Turing's proposal in his paper \"Computing Machinery and Intelligence\", in which the question \"Can machines think?\" is replaced with the question \"Can machines do what we (as thinking entities) can do?\".\n",
      "\n",
      "Modern-day machine learning has two objectives. One is to classify data based on models which have been developed; the other purpose is to make predictions for future outcomes based on these models. A hypothetical algorithm specific to classifying data may use computer vision of moles coupled with supervised learning in order to train it to classify the cancerous moles. A machine learning algorithm for stock trading may inform the trader of future potential predictions.\n",
      "\n",
      "Relationships to other fields\n",
      "Artificial intelligence\n",
      "\n",
      "Machine learning as subfield of AI\n",
      "\n",
      "As a scientific endeavor, machine learning grew out of the quest for artificial intelligence (AI). In the early days of AI as an academic discipline, some researchers were interested in having machines learn from data. They attempted to approach the problem with various symbolic methods, as well as what were then termed \"neural networks\"; these were mostly perceptrons and other models that were later found to be reinventions of the generalized linear models of statistics.Probabilistic reasoning was also employed, especially in automated medical diagnosis.\n",
      "\n",
      "However, an increasing emphasis on the logical, knowledge-based approach caused a rift between AI and machine learning. Probabilistic systems were plagued by theoretical and practical problems of data acquisition and representation.By 1980, expert systems had come to dominate AI, and statistics was out of favor. Work on symbolic/knowledge-based learning did continue within AI, leading to inductive logic programming(ILP), but the more statistical line of research was now outside the field of AI proper, in pattern recognition and information retrieval.Neural networks research had been abandoned by AI and computer science around the same time. This line, too, was continued outside the AI/CS field, as \"connectionism\", by researchers from other disciplines including Hopfield, Rumelhart, and Hinton. Their main success came in the mid-1980s with the reinvention of backpropagation.\n",
      "\n",
      "Machine learning (ML), reorganized and recognized as its own field, started to flourish in the 1990s. The field changed its goal from achieving artificial intelligence to tackling solvable problems of a practical nature. It shifted focus away from the symbolic approaches it had inherited from AI, and toward methods and models borrowed from statistics, fuzzy logic, and probability theory.\n",
      "\n",
      "Data compression\n",
      "This section is an excerpt from Data compression Â§ Machine learning.\n",
      "There is a close connection between machine learning and compression. A system that predicts the posterior probabilities of a sequence given its entire history can be used for optimal data compression (by using arithmetic coding on the output distribution). Conversely, an optimal compressor can be used for prediction (by finding the symbol that compresses best, given the previous history). This equivalence has been used as a justification for using data compression as a benchmark for \"general intelligence\".\n",
      "\n",
      "An alternative view can show compression algorithms implicitly map strings into implicit feature space vectors, and compression-based similarity measures compute similarity within these feature spaces. For each compressor C(.) we define an associated vector space â„µ, such that C(.) maps an input string x, corresponding to the vector norm ||~x||. An exhaustive examination of the feature spaces underlying all compression algorithms is precluded by space; instead, feature vectors chooses to examine three representative lossless compression methods, LZW, LZ77, and PPM.\n",
      "\n",
      "According to AIXI theory, a connection more directly explained in Hutter Prize, the best possible compression of x is the smallest possible software that generates x. For example, in that model, a zip file's compressed size includes both the zip file and the unzipping software, since you can not unzip it without both, but there may be an even smaller combined form.\n",
      "\n",
      "Examples of AI-powered audio/video compression software include NVIDIA Maxine, AIVC.Examples of software that can perform AI-powered image compression include OpenCV, TensorFlow, MATLAB's Image Processing Toolbox (IPT) and High-Fidelity Generative Image Compression.\n",
      "\n",
      "In unsupervised machine learning, k-means clustering can be utilized to compress data by grouping similar data points into clusters. This technique simplifies handling extensive datasets that lack predefined labels and finds widespread use in fields such as image compression.\n",
      "\n",
      "Data compression aims to reduce the size of data files, enhancing storage efficiency and speeding up data transmission. K-means clustering, an unsupervised machine learning algorithm, is employed to partition a dataset into a specified number of clusters, k, each represented by the centroid of its points. This process condenses extensive datasets into a more compact set of representative points. Particularly beneficial in image and signal processing, k-means clustering aids in data reduction by replacing groups of data points with their centroids, thereby preserving the core information of the original data while significantly decreasing the required storage space.\n",
      "\n",
      "Large language models (LLMs) are also capable of lossless data compression, as demonstrated by DeepMind's research with the Chinchilla 70B model. Developed by DeepMind, Chinchilla 70B effectively compressed data, outperforming conventional methods such as Portable Network Graphics (PNG) for images and Free Lossless Audio Codec (FLAC) for audio. It achieved compression of image and audio data to 43.4% and 16.4% of their original sizes, respectively.\n",
      "Data mining\n",
      "Machine learning and data mining often employ the same methods and overlap significantly, but while machine learning focuses on prediction, based on known properties learned from the training data, data mining focuses on the discovery of (previously) unknown properties in the data (this is the analysis step of knowledge discovery in databases). Data mining uses many machine learning methods, but with different goals; on the other hand, machine learning also employs data mining methods as \"unsupervised learning\" or as a preprocessing step to improve learner accuracy. Much of the confusion between these two research communities (which do often have separate conferences and separate journals, ECML PKDD being a major exception) comes from the basic assumptions they work with: in machine learning, performance is usually evaluated with respect to the ability to reproduce known knowledge, while in knowledge discovery and data mining (KDD) the key task is the discovery of previously unknown knowledge. Evaluated with respect to known knowledge, an uninformed (unsupervised) method will easily be outperformed by other supervised methods, while in a typical KDD task, supervised methods cannot be used due to the unavailability of training data.\n",
      "\n",
      "Machine learning also has intimate ties to optimization: Many learning problems are formulated as minimization of some loss function on a training set of examples. Loss functions express the discrepancy between the predictions of the model being trained and the actual problem instances (for example, in classification, one wants to assign a label to instances, and models are trained to correctly predict the preassigned labels of a set of examples).\n",
      "\n",
      "Generalization\n",
      "The difference between optimization and machine learning arises from the goal of generalization: While optimization algorithms can minimize the loss on a training set, machine learning is concerned with minimizing the loss on unseen samples. Characterizing the generalization of various learning algorithms is an active topic of current research, especially for deep learning algorithms.\n",
      "\n",
      "Statistics\n",
      "Machine learning and statistics are closely related fields in terms of methods, but distinct in their principal goal: statistics draws population inferences from a sample, while machine learning finds generalizable predictive patterns. According to Michael I. Jordan, the ideas of machine learning, from methodological principles to theoretical tools, have had a long pre-history in statistics.He also suggested the term data science as a placeholder to call the overall field.\n",
      "\n",
      "Conventional statistical analyses require the a priori selection of a model most suitable for the study data set. In addition, only significant or theoretically relevant variables based on previous experience are included for analysis. In contrast, machine learning is not built on a pre-structured model; rather, the data shape the model by detecting underlying patterns. The more variables (input) used to train the model, the more accurate the ultimate model will be.\n",
      "\n",
      "Leo Breiman distinguished two statistical modeling paradigms: data model and algorithmic model, wherein \"algorithmic model\" means more or less the machine learning algorithms like Random Forest.\n",
      "\n",
      "Some statisticians have adopted methods from machine learning, leading to a combined field that they call statistical learning.\n",
      "\n",
      "Statistical physics\n",
      "Analytical and computational techniques derived from deep-rooted physics of disordered systems can be extended to large-scale problems, including machine learning, e.g., to analyze the weight space of deep neural networks.Statistical physics is thus finding applications in the area of medical diagnostics.\n",
      "\n",
      "Theory\n",
      "Main articles: Computational learning theory and Statistical learning theory\n",
      "A core objective of a learner is to generalize from its experience. Generalization in this context is the ability of a learning machine to perform accurately on new, unseen examples/tasks after having experienced a learning data set. The training examples come from some generally unknown probability distribution (considered representative of the space of occurrences) and the learner has to build a general model about this space that enables it to produce sufficiently accurate predictions in new cases.\n",
      "\n",
      "The computational analysis of machine learning algorithms and their performance is a branch of theoretical computer science known as computational learning theory via the Probably Approximately Correct Learning (PAC) model. Because training sets are finite and the future is uncertain, learning theory usually does not yield guarantees of the performance of algorithms. Instead, probabilistic bounds on the performance are quite common. The biasâ€“variance decomposition is one way to quantify generalization error.\n",
      "\n",
      "For the best performance in the context of generalization, the complexity of the hypothesis should match the complexity of the function underlying the data. If the hypothesis is less complex than the function, then the model has under fitted the data. If the complexity of the model is increased in response, then the training error decreases. But if the hypothesis is too complex, then the model is subject to overfitting and generalization will be poorer.\n",
      "\n",
      "In addition to performance bounds, learning theorists study the time complexity and feasibility of learning. In computational learning theory, a computation is considered feasible if it can be done in polynomial time. There are two kinds of time complexity results: Positive results show that a certain class of functions can be learned in polynomial time. Negative results show that certain classes cannot be learned in polynomial time.\n"
     ]
    }
   ],
   "source": [
    "# Read the file\n",
    "with open(file_path, \"r\") as file:\n",
    "    TEXT = file.read()\n",
    "\n",
    "print(TEXT)"
   ]
  },
  {
   "cell_type": "code",
   "execution_count": 22,
   "id": "4aa44a84-8850-40c7-86f4-ac3d89cb4250",
   "metadata": {},
   "outputs": [
    {
     "data": {
      "text/plain": [
       "'{\"1\": {\"mcq\": \"multiple choice question\", \"options\": {\"a\": \"choice here\", \"b\": \"choice here\", \"c\": \"choice here\", \"d\": \"choice here\"}, \"correct\": \"correct answer\"}, \"2\": {\"mcq\": \"multiple choice question\", \"options\": {\"a\": \"choice here\", \"b\": \"choice here\", \"c\": \"choice here\", \"d\": \"choice here\"}, \"correct\": \"correct answer\"}, \"3\": {\"mcq\": \"multiple choice question\", \"options\": {\"a\": \"choice here\", \"b\": \"choice here\", \"c\": \"choice here\", \"d\": \"choice here\"}, \"correct\": \"correct answer\"}}'"
      ]
     },
     "execution_count": 22,
     "metadata": {},
     "output_type": "execute_result"
    }
   ],
   "source": [
    "json.dumps(RESPONSE_JSON)"
   ]
  },
  {
   "cell_type": "code",
   "execution_count": 23,
   "id": "fd70a947-7da1-4a7a-a85c-558613ab5d67",
   "metadata": {},
   "outputs": [],
   "source": [
    "NUMBER = 10\n",
    "SUBJECT = \"large language model\" #large Language Model\n",
    "TONE = \"simple\" # \"formal\", \"professional\", \"simple\""
   ]
  },
  {
   "cell_type": "code",
   "execution_count": 25,
   "id": "eb2770a6-95e1-4343-bb4d-6d3f8b705c81",
   "metadata": {},
   "outputs": [
    {
     "name": "stderr",
     "output_type": "stream",
     "text": [
      "C:\\Users\\shiva\\AppData\\Local\\Temp\\ipykernel_8600\\3673118126.py:2: LangChainDeprecationWarning: The method `Chain.__call__` was deprecated in langchain 0.1.0 and will be removed in 1.0. Use :meth:`~invoke` instead.\n",
      "  response = generate_evaluate_chain(\n"
     ]
    },
    {
     "name": "stdout",
     "output_type": "stream",
     "text": [
      "\n",
      "\n",
      "\u001b[1m> Entering new SequentialChain chain...\u001b[0m\n",
      "\n",
      "\n",
      "\u001b[1m> Entering new LLMChain chain...\u001b[0m\n",
      "Prompt after formatting:\n",
      "\u001b[32;1m\u001b[1;3m\n",
      "Text:Machine learning (ML) is a field of study in artificial intelligence concerned with the development and study of statistical algorithms that can learn from data and generalize to unseen data and thus perform tasks without explicit instructions.[1] Recently, artificial neural networks have been able to surpass many previous approaches in performance.[2]\n",
      "\n",
      "ML finds application in many fields, including natural language processing, computer vision, speech recognition, email filtering, agriculture, and medicine. When applied to business problems, it is known under the name predictive analytics. Although not all machine learning is statistically based, computational statistics is an important source of the field's methods.\n",
      "\n",
      "The mathematical foundations of ML are provided by mathematical optimization (mathematical programming) methods. Data mining is a related (parallel) field of study, focusing on exploratory data analysis (EDA) through unsupervised learning.\n",
      "\n",
      "From a theoretical viewpoint, probably approximately correct (PAC) learning provides a framework for describing machine learning.\n",
      "\n",
      "History\n",
      "\n",
      "The term machine learning was coined in 1959 by Arthur Samuel, an IBM employee and pioneer in the field of computer gaming and artificial intelligence.The synonym self-teaching computers was also used in this time period.\n",
      "\n",
      "Although the earliest machine learning model was introduced in the 1950s when Arthur Samuel invented a program that calculated the winning chance in checkers for each side, the history of machine learning roots back to decades of human desire and effort to study human cognitive processes. In 1949, Canadian psychologist Donald Hebb published the book The Organization of Behavior, in which he introduced a theoretical neural structure formed by certain interactions among nerve cells. Hebb's model of neurons interacting with one another set a groundwork for how AIs and machine learning algorithms work under nodes, or artificial neurons used by computers to communicate data. Other researchers who have studied human cognitive systems contributed to the modern machine learning technologies as well, including logician Walter Pitts and Warren McCulloch, who proposed the early mathematical models of neural networks to come up with algorithms that mirror human thought processes.\n",
      "\n",
      "By the early 1960s an experimental \"learning machine\" with punched tape memory, called Cybertron, had been developed by Raytheon Company to analyze sonar signals, electrocardiograms, and speech patterns using rudimentary reinforcement learning. It was repetitively \"trained\" by a human operator/teacher to recognize patterns and equipped with a \"goof\" button to cause it to reevaluate incorrect decisions.A representative book on research into machine learning during the 1960s was Nilsson's book on Learning Machines, dealing mostly with machine learning for pattern classification.Interest related to pattern recognition continued into the 1970s, as described by Duda and Hart in 1973. In 1981 a report was given on using teaching strategies so that an artificial neural network learns to recognize 40 characters (26 letters, 10 digits, and 4 special symbols) from a computer terminal.\n",
      "\n",
      "Tom M. Mitchell provided a widely quoted, more formal definition of the algorithms studied in the machine learning field: \"A computer program is said to learn from experience E with respect to some class of tasks T and performance measure P if its performance at tasks in T, as measured by P, improves with experience E.\" This definition of the tasks in which machine learning is concerned offers a fundamentally operational definition rather than defining the field in cognitive terms. This follows Alan Turing's proposal in his paper \"Computing Machinery and Intelligence\", in which the question \"Can machines think?\" is replaced with the question \"Can machines do what we (as thinking entities) can do?\".\n",
      "\n",
      "Modern-day machine learning has two objectives. One is to classify data based on models which have been developed; the other purpose is to make predictions for future outcomes based on these models. A hypothetical algorithm specific to classifying data may use computer vision of moles coupled with supervised learning in order to train it to classify the cancerous moles. A machine learning algorithm for stock trading may inform the trader of future potential predictions.\n",
      "\n",
      "Relationships to other fields\n",
      "Artificial intelligence\n",
      "\n",
      "Machine learning as subfield of AI\n",
      "\n",
      "As a scientific endeavor, machine learning grew out of the quest for artificial intelligence (AI). In the early days of AI as an academic discipline, some researchers were interested in having machines learn from data. They attempted to approach the problem with various symbolic methods, as well as what were then termed \"neural networks\"; these were mostly perceptrons and other models that were later found to be reinventions of the generalized linear models of statistics.Probabilistic reasoning was also employed, especially in automated medical diagnosis.\n",
      "\n",
      "However, an increasing emphasis on the logical, knowledge-based approach caused a rift between AI and machine learning. Probabilistic systems were plagued by theoretical and practical problems of data acquisition and representation.By 1980, expert systems had come to dominate AI, and statistics was out of favor. Work on symbolic/knowledge-based learning did continue within AI, leading to inductive logic programming(ILP), but the more statistical line of research was now outside the field of AI proper, in pattern recognition and information retrieval.Neural networks research had been abandoned by AI and computer science around the same time. This line, too, was continued outside the AI/CS field, as \"connectionism\", by researchers from other disciplines including Hopfield, Rumelhart, and Hinton. Their main success came in the mid-1980s with the reinvention of backpropagation.\n",
      "\n",
      "Machine learning (ML), reorganized and recognized as its own field, started to flourish in the 1990s. The field changed its goal from achieving artificial intelligence to tackling solvable problems of a practical nature. It shifted focus away from the symbolic approaches it had inherited from AI, and toward methods and models borrowed from statistics, fuzzy logic, and probability theory.\n",
      "\n",
      "Data compression\n",
      "This section is an excerpt from Data compression Â§ Machine learning.\n",
      "There is a close connection between machine learning and compression. A system that predicts the posterior probabilities of a sequence given its entire history can be used for optimal data compression (by using arithmetic coding on the output distribution). Conversely, an optimal compressor can be used for prediction (by finding the symbol that compresses best, given the previous history). This equivalence has been used as a justification for using data compression as a benchmark for \"general intelligence\".\n",
      "\n",
      "An alternative view can show compression algorithms implicitly map strings into implicit feature space vectors, and compression-based similarity measures compute similarity within these feature spaces. For each compressor C(.) we define an associated vector space â„µ, such that C(.) maps an input string x, corresponding to the vector norm ||~x||. An exhaustive examination of the feature spaces underlying all compression algorithms is precluded by space; instead, feature vectors chooses to examine three representative lossless compression methods, LZW, LZ77, and PPM.\n",
      "\n",
      "According to AIXI theory, a connection more directly explained in Hutter Prize, the best possible compression of x is the smallest possible software that generates x. For example, in that model, a zip file's compressed size includes both the zip file and the unzipping software, since you can not unzip it without both, but there may be an even smaller combined form.\n",
      "\n",
      "Examples of AI-powered audio/video compression software include NVIDIA Maxine, AIVC.Examples of software that can perform AI-powered image compression include OpenCV, TensorFlow, MATLAB's Image Processing Toolbox (IPT) and High-Fidelity Generative Image Compression.\n",
      "\n",
      "In unsupervised machine learning, k-means clustering can be utilized to compress data by grouping similar data points into clusters. This technique simplifies handling extensive datasets that lack predefined labels and finds widespread use in fields such as image compression.\n",
      "\n",
      "Data compression aims to reduce the size of data files, enhancing storage efficiency and speeding up data transmission. K-means clustering, an unsupervised machine learning algorithm, is employed to partition a dataset into a specified number of clusters, k, each represented by the centroid of its points. This process condenses extensive datasets into a more compact set of representative points. Particularly beneficial in image and signal processing, k-means clustering aids in data reduction by replacing groups of data points with their centroids, thereby preserving the core information of the original data while significantly decreasing the required storage space.\n",
      "\n",
      "Large language models (LLMs) are also capable of lossless data compression, as demonstrated by DeepMind's research with the Chinchilla 70B model. Developed by DeepMind, Chinchilla 70B effectively compressed data, outperforming conventional methods such as Portable Network Graphics (PNG) for images and Free Lossless Audio Codec (FLAC) for audio. It achieved compression of image and audio data to 43.4% and 16.4% of their original sizes, respectively.\n",
      "Data mining\n",
      "Machine learning and data mining often employ the same methods and overlap significantly, but while machine learning focuses on prediction, based on known properties learned from the training data, data mining focuses on the discovery of (previously) unknown properties in the data (this is the analysis step of knowledge discovery in databases). Data mining uses many machine learning methods, but with different goals; on the other hand, machine learning also employs data mining methods as \"unsupervised learning\" or as a preprocessing step to improve learner accuracy. Much of the confusion between these two research communities (which do often have separate conferences and separate journals, ECML PKDD being a major exception) comes from the basic assumptions they work with: in machine learning, performance is usually evaluated with respect to the ability to reproduce known knowledge, while in knowledge discovery and data mining (KDD) the key task is the discovery of previously unknown knowledge. Evaluated with respect to known knowledge, an uninformed (unsupervised) method will easily be outperformed by other supervised methods, while in a typical KDD task, supervised methods cannot be used due to the unavailability of training data.\n",
      "\n",
      "Machine learning also has intimate ties to optimization: Many learning problems are formulated as minimization of some loss function on a training set of examples. Loss functions express the discrepancy between the predictions of the model being trained and the actual problem instances (for example, in classification, one wants to assign a label to instances, and models are trained to correctly predict the preassigned labels of a set of examples).\n",
      "\n",
      "Generalization\n",
      "The difference between optimization and machine learning arises from the goal of generalization: While optimization algorithms can minimize the loss on a training set, machine learning is concerned with minimizing the loss on unseen samples. Characterizing the generalization of various learning algorithms is an active topic of current research, especially for deep learning algorithms.\n",
      "\n",
      "Statistics\n",
      "Machine learning and statistics are closely related fields in terms of methods, but distinct in their principal goal: statistics draws population inferences from a sample, while machine learning finds generalizable predictive patterns. According to Michael I. Jordan, the ideas of machine learning, from methodological principles to theoretical tools, have had a long pre-history in statistics.He also suggested the term data science as a placeholder to call the overall field.\n",
      "\n",
      "Conventional statistical analyses require the a priori selection of a model most suitable for the study data set. In addition, only significant or theoretically relevant variables based on previous experience are included for analysis. In contrast, machine learning is not built on a pre-structured model; rather, the data shape the model by detecting underlying patterns. The more variables (input) used to train the model, the more accurate the ultimate model will be.\n",
      "\n",
      "Leo Breiman distinguished two statistical modeling paradigms: data model and algorithmic model, wherein \"algorithmic model\" means more or less the machine learning algorithms like Random Forest.\n",
      "\n",
      "Some statisticians have adopted methods from machine learning, leading to a combined field that they call statistical learning.\n",
      "\n",
      "Statistical physics\n",
      "Analytical and computational techniques derived from deep-rooted physics of disordered systems can be extended to large-scale problems, including machine learning, e.g., to analyze the weight space of deep neural networks.Statistical physics is thus finding applications in the area of medical diagnostics.\n",
      "\n",
      "Theory\n",
      "Main articles: Computational learning theory and Statistical learning theory\n",
      "A core objective of a learner is to generalize from its experience. Generalization in this context is the ability of a learning machine to perform accurately on new, unseen examples/tasks after having experienced a learning data set. The training examples come from some generally unknown probability distribution (considered representative of the space of occurrences) and the learner has to build a general model about this space that enables it to produce sufficiently accurate predictions in new cases.\n",
      "\n",
      "The computational analysis of machine learning algorithms and their performance is a branch of theoretical computer science known as computational learning theory via the Probably Approximately Correct Learning (PAC) model. Because training sets are finite and the future is uncertain, learning theory usually does not yield guarantees of the performance of algorithms. Instead, probabilistic bounds on the performance are quite common. The biasâ€“variance decomposition is one way to quantify generalization error.\n",
      "\n",
      "For the best performance in the context of generalization, the complexity of the hypothesis should match the complexity of the function underlying the data. If the hypothesis is less complex than the function, then the model has under fitted the data. If the complexity of the model is increased in response, then the training error decreases. But if the hypothesis is too complex, then the model is subject to overfitting and generalization will be poorer.\n",
      "\n",
      "In addition to performance bounds, learning theorists study the time complexity and feasibility of learning. In computational learning theory, a computation is considered feasible if it can be done in polynomial time. There are two kinds of time complexity results: Positive results show that a certain class of functions can be learned in polynomial time. Negative results show that certain classes cannot be learned in polynomial time.\n",
      "You are an expert MCQ maker. Given the above text, it is your job to create a quiz  of 10 multiple choice questions for large language model students in simple tone. \n",
      "Make sure the questions are not repeated and check all the questions to be conforming the text as well.\n",
      "Make sure to format your response like  RESPONSE_JSON below  and use it as a guide. Ensure to make 10 MCQs\n",
      "### RESPONSE_JSON\n",
      "{\"1\": {\"mcq\": \"multiple choice question\", \"options\": {\"a\": \"choice here\", \"b\": \"choice here\", \"c\": \"choice here\", \"d\": \"choice here\"}, \"correct\": \"correct answer\"}, \"2\": {\"mcq\": \"multiple choice question\", \"options\": {\"a\": \"choice here\", \"b\": \"choice here\", \"c\": \"choice here\", \"d\": \"choice here\"}, \"correct\": \"correct answer\"}, \"3\": {\"mcq\": \"multiple choice question\", \"options\": {\"a\": \"choice here\", \"b\": \"choice here\", \"c\": \"choice here\", \"d\": \"choice here\"}, \"correct\": \"correct answer\"}}\n",
      "\n",
      "\u001b[0m\n",
      "\n",
      "\u001b[1m> Finished chain.\u001b[0m\n",
      "\n",
      "\n",
      "\u001b[1m> Entering new LLMChain chain...\u001b[0m\n",
      "Prompt after formatting:\n",
      "\u001b[32;1m\u001b[1;3m\n",
      "Text:Machine learning (ML) is a field of study in artificial intelligence concerned with the development and study of statistical algorithms that can learn from data and generalize to unseen data and thus perform tasks without explicit instructions.[1] Recently, artificial neural networks have been able to surpass many previous approaches in performance.[2]\n",
      "\n",
      "ML finds application in many fields, including natural language processing, computer vision, speech recognition, email filtering, agriculture, and medicine. When applied to business problems, it is known under the name predictive analytics. Although not all machine learning is statistically based, computational statistics is an important source of the field's methods.\n",
      "\n",
      "The mathematical foundations of ML are provided by mathematical optimization (mathematical programming) methods. Data mining is a related (parallel) field of study, focusing on exploratory data analysis (EDA) through unsupervised learning.\n",
      "\n",
      "From a theoretical viewpoint, probably approximately correct (PAC) learning provides a framework for describing machine learning.\n",
      "\n",
      "History\n",
      "\n",
      "The term machine learning was coined in 1959 by Arthur Samuel, an IBM employee and pioneer in the field of computer gaming and artificial intelligence.The synonym self-teaching computers was also used in this time period.\n",
      "\n",
      "Although the earliest machine learning model was introduced in the 1950s when Arthur Samuel invented a program that calculated the winning chance in checkers for each side, the history of machine learning roots back to decades of human desire and effort to study human cognitive processes. In 1949, Canadian psychologist Donald Hebb published the book The Organization of Behavior, in which he introduced a theoretical neural structure formed by certain interactions among nerve cells. Hebb's model of neurons interacting with one another set a groundwork for how AIs and machine learning algorithms work under nodes, or artificial neurons used by computers to communicate data. Other researchers who have studied human cognitive systems contributed to the modern machine learning technologies as well, including logician Walter Pitts and Warren McCulloch, who proposed the early mathematical models of neural networks to come up with algorithms that mirror human thought processes.\n",
      "\n",
      "By the early 1960s an experimental \"learning machine\" with punched tape memory, called Cybertron, had been developed by Raytheon Company to analyze sonar signals, electrocardiograms, and speech patterns using rudimentary reinforcement learning. It was repetitively \"trained\" by a human operator/teacher to recognize patterns and equipped with a \"goof\" button to cause it to reevaluate incorrect decisions.A representative book on research into machine learning during the 1960s was Nilsson's book on Learning Machines, dealing mostly with machine learning for pattern classification.Interest related to pattern recognition continued into the 1970s, as described by Duda and Hart in 1973. In 1981 a report was given on using teaching strategies so that an artificial neural network learns to recognize 40 characters (26 letters, 10 digits, and 4 special symbols) from a computer terminal.\n",
      "\n",
      "Tom M. Mitchell provided a widely quoted, more formal definition of the algorithms studied in the machine learning field: \"A computer program is said to learn from experience E with respect to some class of tasks T and performance measure P if its performance at tasks in T, as measured by P, improves with experience E.\" This definition of the tasks in which machine learning is concerned offers a fundamentally operational definition rather than defining the field in cognitive terms. This follows Alan Turing's proposal in his paper \"Computing Machinery and Intelligence\", in which the question \"Can machines think?\" is replaced with the question \"Can machines do what we (as thinking entities) can do?\".\n",
      "\n",
      "Modern-day machine learning has two objectives. One is to classify data based on models which have been developed; the other purpose is to make predictions for future outcomes based on these models. A hypothetical algorithm specific to classifying data may use computer vision of moles coupled with supervised learning in order to train it to classify the cancerous moles. A machine learning algorithm for stock trading may inform the trader of future potential predictions.\n",
      "\n",
      "Relationships to other fields\n",
      "Artificial intelligence\n",
      "\n",
      "Machine learning as subfield of AI\n",
      "\n",
      "As a scientific endeavor, machine learning grew out of the quest for artificial intelligence (AI). In the early days of AI as an academic discipline, some researchers were interested in having machines learn from data. They attempted to approach the problem with various symbolic methods, as well as what were then termed \"neural networks\"; these were mostly perceptrons and other models that were later found to be reinventions of the generalized linear models of statistics.Probabilistic reasoning was also employed, especially in automated medical diagnosis.\n",
      "\n",
      "However, an increasing emphasis on the logical, knowledge-based approach caused a rift between AI and machine learning. Probabilistic systems were plagued by theoretical and practical problems of data acquisition and representation.By 1980, expert systems had come to dominate AI, and statistics was out of favor. Work on symbolic/knowledge-based learning did continue within AI, leading to inductive logic programming(ILP), but the more statistical line of research was now outside the field of AI proper, in pattern recognition and information retrieval.Neural networks research had been abandoned by AI and computer science around the same time. This line, too, was continued outside the AI/CS field, as \"connectionism\", by researchers from other disciplines including Hopfield, Rumelhart, and Hinton. Their main success came in the mid-1980s with the reinvention of backpropagation.\n",
      "\n",
      "Machine learning (ML), reorganized and recognized as its own field, started to flourish in the 1990s. The field changed its goal from achieving artificial intelligence to tackling solvable problems of a practical nature. It shifted focus away from the symbolic approaches it had inherited from AI, and toward methods and models borrowed from statistics, fuzzy logic, and probability theory.\n",
      "\n",
      "Data compression\n",
      "This section is an excerpt from Data compression Â§ Machine learning.\n",
      "There is a close connection between machine learning and compression. A system that predicts the posterior probabilities of a sequence given its entire history can be used for optimal data compression (by using arithmetic coding on the output distribution). Conversely, an optimal compressor can be used for prediction (by finding the symbol that compresses best, given the previous history). This equivalence has been used as a justification for using data compression as a benchmark for \"general intelligence\".\n",
      "\n",
      "An alternative view can show compression algorithms implicitly map strings into implicit feature space vectors, and compression-based similarity measures compute similarity within these feature spaces. For each compressor C(.) we define an associated vector space â„µ, such that C(.) maps an input string x, corresponding to the vector norm ||~x||. An exhaustive examination of the feature spaces underlying all compression algorithms is precluded by space; instead, feature vectors chooses to examine three representative lossless compression methods, LZW, LZ77, and PPM.\n",
      "\n",
      "According to AIXI theory, a connection more directly explained in Hutter Prize, the best possible compression of x is the smallest possible software that generates x. For example, in that model, a zip file's compressed size includes both the zip file and the unzipping software, since you can not unzip it without both, but there may be an even smaller combined form.\n",
      "\n",
      "Examples of AI-powered audio/video compression software include NVIDIA Maxine, AIVC.Examples of software that can perform AI-powered image compression include OpenCV, TensorFlow, MATLAB's Image Processing Toolbox (IPT) and High-Fidelity Generative Image Compression.\n",
      "\n",
      "In unsupervised machine learning, k-means clustering can be utilized to compress data by grouping similar data points into clusters. This technique simplifies handling extensive datasets that lack predefined labels and finds widespread use in fields such as image compression.\n",
      "\n",
      "Data compression aims to reduce the size of data files, enhancing storage efficiency and speeding up data transmission. K-means clustering, an unsupervised machine learning algorithm, is employed to partition a dataset into a specified number of clusters, k, each represented by the centroid of its points. This process condenses extensive datasets into a more compact set of representative points. Particularly beneficial in image and signal processing, k-means clustering aids in data reduction by replacing groups of data points with their centroids, thereby preserving the core information of the original data while significantly decreasing the required storage space.\n",
      "\n",
      "Large language models (LLMs) are also capable of lossless data compression, as demonstrated by DeepMind's research with the Chinchilla 70B model. Developed by DeepMind, Chinchilla 70B effectively compressed data, outperforming conventional methods such as Portable Network Graphics (PNG) for images and Free Lossless Audio Codec (FLAC) for audio. It achieved compression of image and audio data to 43.4% and 16.4% of their original sizes, respectively.\n",
      "Data mining\n",
      "Machine learning and data mining often employ the same methods and overlap significantly, but while machine learning focuses on prediction, based on known properties learned from the training data, data mining focuses on the discovery of (previously) unknown properties in the data (this is the analysis step of knowledge discovery in databases). Data mining uses many machine learning methods, but with different goals; on the other hand, machine learning also employs data mining methods as \"unsupervised learning\" or as a preprocessing step to improve learner accuracy. Much of the confusion between these two research communities (which do often have separate conferences and separate journals, ECML PKDD being a major exception) comes from the basic assumptions they work with: in machine learning, performance is usually evaluated with respect to the ability to reproduce known knowledge, while in knowledge discovery and data mining (KDD) the key task is the discovery of previously unknown knowledge. Evaluated with respect to known knowledge, an uninformed (unsupervised) method will easily be outperformed by other supervised methods, while in a typical KDD task, supervised methods cannot be used due to the unavailability of training data.\n",
      "\n",
      "Machine learning also has intimate ties to optimization: Many learning problems are formulated as minimization of some loss function on a training set of examples. Loss functions express the discrepancy between the predictions of the model being trained and the actual problem instances (for example, in classification, one wants to assign a label to instances, and models are trained to correctly predict the preassigned labels of a set of examples).\n",
      "\n",
      "Generalization\n",
      "The difference between optimization and machine learning arises from the goal of generalization: While optimization algorithms can minimize the loss on a training set, machine learning is concerned with minimizing the loss on unseen samples. Characterizing the generalization of various learning algorithms is an active topic of current research, especially for deep learning algorithms.\n",
      "\n",
      "Statistics\n",
      "Machine learning and statistics are closely related fields in terms of methods, but distinct in their principal goal: statistics draws population inferences from a sample, while machine learning finds generalizable predictive patterns. According to Michael I. Jordan, the ideas of machine learning, from methodological principles to theoretical tools, have had a long pre-history in statistics.He also suggested the term data science as a placeholder to call the overall field.\n",
      "\n",
      "Conventional statistical analyses require the a priori selection of a model most suitable for the study data set. In addition, only significant or theoretically relevant variables based on previous experience are included for analysis. In contrast, machine learning is not built on a pre-structured model; rather, the data shape the model by detecting underlying patterns. The more variables (input) used to train the model, the more accurate the ultimate model will be.\n",
      "\n",
      "Leo Breiman distinguished two statistical modeling paradigms: data model and algorithmic model, wherein \"algorithmic model\" means more or less the machine learning algorithms like Random Forest.\n",
      "\n",
      "Some statisticians have adopted methods from machine learning, leading to a combined field that they call statistical learning.\n",
      "\n",
      "Statistical physics\n",
      "Analytical and computational techniques derived from deep-rooted physics of disordered systems can be extended to large-scale problems, including machine learning, e.g., to analyze the weight space of deep neural networks.Statistical physics is thus finding applications in the area of medical diagnostics.\n",
      "\n",
      "Theory\n",
      "Main articles: Computational learning theory and Statistical learning theory\n",
      "A core objective of a learner is to generalize from its experience. Generalization in this context is the ability of a learning machine to perform accurately on new, unseen examples/tasks after having experienced a learning data set. The training examples come from some generally unknown probability distribution (considered representative of the space of occurrences) and the learner has to build a general model about this space that enables it to produce sufficiently accurate predictions in new cases.\n",
      "\n",
      "The computational analysis of machine learning algorithms and their performance is a branch of theoretical computer science known as computational learning theory via the Probably Approximately Correct Learning (PAC) model. Because training sets are finite and the future is uncertain, learning theory usually does not yield guarantees of the performance of algorithms. Instead, probabilistic bounds on the performance are quite common. The biasâ€“variance decomposition is one way to quantify generalization error.\n",
      "\n",
      "For the best performance in the context of generalization, the complexity of the hypothesis should match the complexity of the function underlying the data. If the hypothesis is less complex than the function, then the model has under fitted the data. If the complexity of the model is increased in response, then the training error decreases. But if the hypothesis is too complex, then the model is subject to overfitting and generalization will be poorer.\n",
      "\n",
      "In addition to performance bounds, learning theorists study the time complexity and feasibility of learning. In computational learning theory, a computation is considered feasible if it can be done in polynomial time. There are two kinds of time complexity results: Positive results show that a certain class of functions can be learned in polynomial time. Negative results show that certain classes cannot be learned in polynomial time.\n",
      "You are an expert MCQ maker. Given the above text, it is your job to create a quiz  of 10 multiple choice questions for large language model students in simple tone. \n",
      "Make sure the questions are not repeated and check all the questions to be conforming the text as well.\n",
      "Make sure to format your response like  RESPONSE_JSON below  and use it as a guide. Ensure to make 10 MCQs\n",
      "### RESPONSE_JSON\n",
      "{\"1\": {\"mcq\": \"multiple choice question\", \"options\": {\"a\": \"choice here\", \"b\": \"choice here\", \"c\": \"choice here\", \"d\": \"choice here\"}, \"correct\": \"correct answer\"}, \"2\": {\"mcq\": \"multiple choice question\", \"options\": {\"a\": \"choice here\", \"b\": \"choice here\", \"c\": \"choice here\", \"d\": \"choice here\"}, \"correct\": \"correct answer\"}, \"3\": {\"mcq\": \"multiple choice question\", \"options\": {\"a\": \"choice here\", \"b\": \"choice here\", \"c\": \"choice here\", \"d\": \"choice here\"}, \"correct\": \"correct answer\"}}\n",
      "\n",
      "\u001b[0m\n",
      "\n",
      "\u001b[1m> Finished chain.\u001b[0m\n",
      "\n",
      "\u001b[1m> Finished chain.\u001b[0m\n"
     ]
    }
   ],
   "source": [
    "with get_openai_callback() as cb:\n",
    "    response = generate_evaluate_chain(\n",
    "        {\n",
    "            \"text\" : TEXT,\n",
    "    \"number\":NUMBER,\n",
    "    \"subject\" :SUBJECT,\n",
    "    \"tone\":TONE,\n",
    "    \"response_json\": json.dumps(RESPONSE_JSON)\n",
    "        }\n",
    "    )"
   ]
  },
  {
   "cell_type": "code",
   "execution_count": 26,
   "id": "880f842b-4852-4f89-8356-296bbaee42b8",
   "metadata": {},
   "outputs": [
    {
     "name": "stdout",
     "output_type": "stream",
     "text": [
      "Total Tokens:7928\n",
      "Prompt Tokens:6060\n",
      "Completion Tokens:1868\n",
      "Total Cost:0.012825999999999999\n"
     ]
    }
   ],
   "source": [
    "print(f\"Total Tokens:{cb.total_tokens}\")\n",
    "print(f\"Prompt Tokens:{cb.prompt_tokens}\")\n",
    "print(f\"Completion Tokens:{cb.completion_tokens}\")\n",
    "print(f\"Total Cost:{cb.total_cost}\")"
   ]
  },
  {
   "cell_type": "code",
   "execution_count": 27,
   "id": "cf917709-0d51-4c86-888f-9e070fab86f5",
   "metadata": {},
   "outputs": [
    {
     "data": {
      "text/plain": [
       "{'text': 'Machine learning (ML) is a field of study in artificial intelligence concerned with the development and study of statistical algorithms that can learn from data and generalize to unseen data and thus perform tasks without explicit instructions.[1] Recently, artificial neural networks have been able to surpass many previous approaches in performance.[2]\\n\\nML finds application in many fields, including natural language processing, computer vision, speech recognition, email filtering, agriculture, and medicine. When applied to business problems, it is known under the name predictive analytics. Although not all machine learning is statistically based, computational statistics is an important source of the field\\'s methods.\\n\\nThe mathematical foundations of ML are provided by mathematical optimization (mathematical programming) methods. Data mining is a related (parallel) field of study, focusing on exploratory data analysis (EDA) through unsupervised learning.\\n\\nFrom a theoretical viewpoint, probably approximately correct (PAC) learning provides a framework for describing machine learning.\\n\\nHistory\\n\\nThe term machine learning was coined in 1959 by Arthur Samuel, an IBM employee and pioneer in the field of computer gaming and artificial intelligence.The synonym self-teaching computers was also used in this time period.\\n\\nAlthough the earliest machine learning model was introduced in the 1950s when Arthur Samuel invented a program that calculated the winning chance in checkers for each side, the history of machine learning roots back to decades of human desire and effort to study human cognitive processes. In 1949, Canadian psychologist Donald Hebb published the book The Organization of Behavior, in which he introduced a theoretical neural structure formed by certain interactions among nerve cells. Hebb\\'s model of neurons interacting with one another set a groundwork for how AIs and machine learning algorithms work under nodes, or artificial neurons used by computers to communicate data. Other researchers who have studied human cognitive systems contributed to the modern machine learning technologies as well, including logician Walter Pitts and Warren McCulloch, who proposed the early mathematical models of neural networks to come up with algorithms that mirror human thought processes.\\n\\nBy the early 1960s an experimental \"learning machine\" with punched tape memory, called Cybertron, had been developed by Raytheon Company to analyze sonar signals, electrocardiograms, and speech patterns using rudimentary reinforcement learning. It was repetitively \"trained\" by a human operator/teacher to recognize patterns and equipped with a \"goof\" button to cause it to reevaluate incorrect decisions.A representative book on research into machine learning during the 1960s was Nilsson\\'s book on Learning Machines, dealing mostly with machine learning for pattern classification.Interest related to pattern recognition continued into the 1970s, as described by Duda and Hart in 1973. In 1981 a report was given on using teaching strategies so that an artificial neural network learns to recognize 40 characters (26 letters, 10 digits, and 4 special symbols) from a computer terminal.\\n\\nTom M. Mitchell provided a widely quoted, more formal definition of the algorithms studied in the machine learning field: \"A computer program is said to learn from experience E with respect to some class of tasks T and performance measure P if its performance at tasks in T, as measured by P, improves with experience E.\" This definition of the tasks in which machine learning is concerned offers a fundamentally operational definition rather than defining the field in cognitive terms. This follows Alan Turing\\'s proposal in his paper \"Computing Machinery and Intelligence\", in which the question \"Can machines think?\" is replaced with the question \"Can machines do what we (as thinking entities) can do?\".\\n\\nModern-day machine learning has two objectives. One is to classify data based on models which have been developed; the other purpose is to make predictions for future outcomes based on these models. A hypothetical algorithm specific to classifying data may use computer vision of moles coupled with supervised learning in order to train it to classify the cancerous moles. A machine learning algorithm for stock trading may inform the trader of future potential predictions.\\n\\nRelationships to other fields\\nArtificial intelligence\\n\\nMachine learning as subfield of AI\\n\\nAs a scientific endeavor, machine learning grew out of the quest for artificial intelligence (AI). In the early days of AI as an academic discipline, some researchers were interested in having machines learn from data. They attempted to approach the problem with various symbolic methods, as well as what were then termed \"neural networks\"; these were mostly perceptrons and other models that were later found to be reinventions of the generalized linear models of statistics.Probabilistic reasoning was also employed, especially in automated medical diagnosis.\\n\\nHowever, an increasing emphasis on the logical, knowledge-based approach caused a rift between AI and machine learning. Probabilistic systems were plagued by theoretical and practical problems of data acquisition and representation.By 1980, expert systems had come to dominate AI, and statistics was out of favor. Work on symbolic/knowledge-based learning did continue within AI, leading to inductive logic programming(ILP), but the more statistical line of research was now outside the field of AI proper, in pattern recognition and information retrieval.Neural networks research had been abandoned by AI and computer science around the same time. This line, too, was continued outside the AI/CS field, as \"connectionism\", by researchers from other disciplines including Hopfield, Rumelhart, and Hinton. Their main success came in the mid-1980s with the reinvention of backpropagation.\\n\\nMachine learning (ML), reorganized and recognized as its own field, started to flourish in the 1990s. The field changed its goal from achieving artificial intelligence to tackling solvable problems of a practical nature. It shifted focus away from the symbolic approaches it had inherited from AI, and toward methods and models borrowed from statistics, fuzzy logic, and probability theory.\\n\\nData compression\\nThis section is an excerpt from Data compression Â§ Machine learning.\\nThere is a close connection between machine learning and compression. A system that predicts the posterior probabilities of a sequence given its entire history can be used for optimal data compression (by using arithmetic coding on the output distribution). Conversely, an optimal compressor can be used for prediction (by finding the symbol that compresses best, given the previous history). This equivalence has been used as a justification for using data compression as a benchmark for \"general intelligence\".\\n\\nAn alternative view can show compression algorithms implicitly map strings into implicit feature space vectors, and compression-based similarity measures compute similarity within these feature spaces. For each compressor C(.) we define an associated vector space â„µ, such that C(.) maps an input string x, corresponding to the vector norm ||~x||. An exhaustive examination of the feature spaces underlying all compression algorithms is precluded by space; instead, feature vectors chooses to examine three representative lossless compression methods, LZW, LZ77, and PPM.\\n\\nAccording to AIXI theory, a connection more directly explained in Hutter Prize, the best possible compression of x is the smallest possible software that generates x. For example, in that model, a zip file\\'s compressed size includes both the zip file and the unzipping software, since you can not unzip it without both, but there may be an even smaller combined form.\\n\\nExamples of AI-powered audio/video compression software include NVIDIA Maxine, AIVC.Examples of software that can perform AI-powered image compression include OpenCV, TensorFlow, MATLAB\\'s Image Processing Toolbox (IPT) and High-Fidelity Generative Image Compression.\\n\\nIn unsupervised machine learning, k-means clustering can be utilized to compress data by grouping similar data points into clusters. This technique simplifies handling extensive datasets that lack predefined labels and finds widespread use in fields such as image compression.\\n\\nData compression aims to reduce the size of data files, enhancing storage efficiency and speeding up data transmission. K-means clustering, an unsupervised machine learning algorithm, is employed to partition a dataset into a specified number of clusters, k, each represented by the centroid of its points. This process condenses extensive datasets into a more compact set of representative points. Particularly beneficial in image and signal processing, k-means clustering aids in data reduction by replacing groups of data points with their centroids, thereby preserving the core information of the original data while significantly decreasing the required storage space.\\n\\nLarge language models (LLMs) are also capable of lossless data compression, as demonstrated by DeepMind\\'s research with the Chinchilla 70B model. Developed by DeepMind, Chinchilla 70B effectively compressed data, outperforming conventional methods such as Portable Network Graphics (PNG) for images and Free Lossless Audio Codec (FLAC) for audio. It achieved compression of image and audio data to 43.4% and 16.4% of their original sizes, respectively.\\nData mining\\nMachine learning and data mining often employ the same methods and overlap significantly, but while machine learning focuses on prediction, based on known properties learned from the training data, data mining focuses on the discovery of (previously) unknown properties in the data (this is the analysis step of knowledge discovery in databases). Data mining uses many machine learning methods, but with different goals; on the other hand, machine learning also employs data mining methods as \"unsupervised learning\" or as a preprocessing step to improve learner accuracy. Much of the confusion between these two research communities (which do often have separate conferences and separate journals, ECML PKDD being a major exception) comes from the basic assumptions they work with: in machine learning, performance is usually evaluated with respect to the ability to reproduce known knowledge, while in knowledge discovery and data mining (KDD) the key task is the discovery of previously unknown knowledge. Evaluated with respect to known knowledge, an uninformed (unsupervised) method will easily be outperformed by other supervised methods, while in a typical KDD task, supervised methods cannot be used due to the unavailability of training data.\\n\\nMachine learning also has intimate ties to optimization: Many learning problems are formulated as minimization of some loss function on a training set of examples. Loss functions express the discrepancy between the predictions of the model being trained and the actual problem instances (for example, in classification, one wants to assign a label to instances, and models are trained to correctly predict the preassigned labels of a set of examples).\\n\\nGeneralization\\nThe difference between optimization and machine learning arises from the goal of generalization: While optimization algorithms can minimize the loss on a training set, machine learning is concerned with minimizing the loss on unseen samples. Characterizing the generalization of various learning algorithms is an active topic of current research, especially for deep learning algorithms.\\n\\nStatistics\\nMachine learning and statistics are closely related fields in terms of methods, but distinct in their principal goal: statistics draws population inferences from a sample, while machine learning finds generalizable predictive patterns. According to Michael I. Jordan, the ideas of machine learning, from methodological principles to theoretical tools, have had a long pre-history in statistics.He also suggested the term data science as a placeholder to call the overall field.\\n\\nConventional statistical analyses require the a priori selection of a model most suitable for the study data set. In addition, only significant or theoretically relevant variables based on previous experience are included for analysis. In contrast, machine learning is not built on a pre-structured model; rather, the data shape the model by detecting underlying patterns. The more variables (input) used to train the model, the more accurate the ultimate model will be.\\n\\nLeo Breiman distinguished two statistical modeling paradigms: data model and algorithmic model, wherein \"algorithmic model\" means more or less the machine learning algorithms like Random Forest.\\n\\nSome statisticians have adopted methods from machine learning, leading to a combined field that they call statistical learning.\\n\\nStatistical physics\\nAnalytical and computational techniques derived from deep-rooted physics of disordered systems can be extended to large-scale problems, including machine learning, e.g., to analyze the weight space of deep neural networks.Statistical physics is thus finding applications in the area of medical diagnostics.\\n\\nTheory\\nMain articles: Computational learning theory and Statistical learning theory\\nA core objective of a learner is to generalize from its experience. Generalization in this context is the ability of a learning machine to perform accurately on new, unseen examples/tasks after having experienced a learning data set. The training examples come from some generally unknown probability distribution (considered representative of the space of occurrences) and the learner has to build a general model about this space that enables it to produce sufficiently accurate predictions in new cases.\\n\\nThe computational analysis of machine learning algorithms and their performance is a branch of theoretical computer science known as computational learning theory via the Probably Approximately Correct Learning (PAC) model. Because training sets are finite and the future is uncertain, learning theory usually does not yield guarantees of the performance of algorithms. Instead, probabilistic bounds on the performance are quite common. The biasâ€“variance decomposition is one way to quantify generalization error.\\n\\nFor the best performance in the context of generalization, the complexity of the hypothesis should match the complexity of the function underlying the data. If the hypothesis is less complex than the function, then the model has under fitted the data. If the complexity of the model is increased in response, then the training error decreases. But if the hypothesis is too complex, then the model is subject to overfitting and generalization will be poorer.\\n\\nIn addition to performance bounds, learning theorists study the time complexity and feasibility of learning. In computational learning theory, a computation is considered feasible if it can be done in polynomial time. There are two kinds of time complexity results: Positive results show that a certain class of functions can be learned in polynomial time. Negative results show that certain classes cannot be learned in polynomial time.',\n",
       " 'number': 10,\n",
       " 'subject': 'large language model',\n",
       " 'tone': 'simple',\n",
       " 'response_json': '{\"1\": {\"mcq\": \"multiple choice question\", \"options\": {\"a\": \"choice here\", \"b\": \"choice here\", \"c\": \"choice here\", \"d\": \"choice here\"}, \"correct\": \"correct answer\"}, \"2\": {\"mcq\": \"multiple choice question\", \"options\": {\"a\": \"choice here\", \"b\": \"choice here\", \"c\": \"choice here\", \"d\": \"choice here\"}, \"correct\": \"correct answer\"}, \"3\": {\"mcq\": \"multiple choice question\", \"options\": {\"a\": \"choice here\", \"b\": \"choice here\", \"c\": \"choice here\", \"d\": \"choice here\"}, \"correct\": \"correct answer\"}}',\n",
       " 'quiz': '{\\n    \"1\": {\\n        \"mcq\": \"Who coined the term \\'machine learning\\'?\",\\n        \"options\": {\\n            \"a\": \"Alan Turing\",\\n            \"b\": \"Arthur Samuel\",\\n            \"c\": \"Donald Hebb\",\\n            \"d\": \"Tom M. Mitchell\"\\n        },\\n        \"correct\": \"b\"\\n    },\\n    \"2\": {\\n        \"mcq\": \"Which field of study focuses on exploratory data analysis through unsupervised learning?\",\\n        \"options\": {\\n            \"a\": \"Data mining\",\\n            \"b\": \"Artificial intelligence\",\\n            \"c\": \"Statistical physics\",\\n            \"d\": \"Predictive analytics\"\\n        },\\n        \"correct\": \"a\"\\n    },\\n    \"3\": {\\n        \"mcq\": \"What was the experimental \\'learning machine\\' developed by Raytheon Company in the early 1960s called?\",\\n        \"options\": {\\n            \"a\": \"Cybernet\",\\n            \"b\": \"Cybertron\",\\n            \"c\": \"Cyberspace\",\\n            \"d\": \"Cyberbot\"\\n        },\\n        \"correct\": \"b\"\\n    },\\n    \"4\": {\\n        \"mcq\": \"Which researcher introduced a theoretical neural structure formed by interactions among nerve cells in 1949?\",\\n        \"options\": {\\n            \"a\": \"Ray Kurzweil\",\\n            \"b\": \"Walter Pitts\",\\n            \"c\": \"Elon Musk\",\\n            \"d\": \"Mark Zuckerberg\"\\n        },\\n        \"correct\": \"b\"\\n    },\\n    \"5\": {\\n        \"mcq\": \"What is the main difference between machine learning and statistics?\",\\n        \"options\": {\\n            \"a\": \"Machine learning focuses on prediction, while statistics focuses on generalization.\",\\n            \"b\": \"Machine learning is built on pre-structured models, while statistics shapes the model based on data.\",\\n            \"c\": \"Machine learning draws population inferences from a sample, while statistics finds generalizable predictive patterns.\",\\n            \"d\": \"Statistics uses unsupervised learning, while machine learning employs supervised learning.\"\\n        },\\n        \"correct\": \"a\"\\n    },\\n    \"6\": {\\n        \"mcq\": \"What is the primary goal of machine learning?\",\\n        \"options\": {\\n            \"a\": \"To draw population inferences from a sample.\",\\n            \"b\": \"To build pre-structured models based on known properties.\",\\n            \"c\": \"To minimize loss on unseen samples and make accurate predictions.\",\\n            \"d\": \"To focus on theoretical tools and methodological principles.\"\\n        },\\n        \"correct\": \"c\"\\n    },\\n    \"7\": {\\n        \"mcq\": \"Which field of study uses computational learning theory to analyze the performance of algorithms?\",\\n        \"options\": {\\n            \"a\": \"Data mining\",\\n            \"b\": \"Artificial intelligence\",\\n            \"c\": \"Statistical physics\",\\n            \"d\": \"Machine learning\"\\n        },\\n        \"correct\": \"d\"\\n    },\\n    \"8\": {\\n        \"mcq\": \"What is the core objective of a learner in machine learning?\",\\n        \"options\": {\\n            \"a\": \"To draw population inferences from a sample.\",\\n            \"b\": \"To minimize loss on a training set of examples.\",\\n            \"c\": \"To build pre-structured models based on known properties.\",\\n            \"d\": \"To focus on theoretical tools and methodological principles.\"\\n        },\\n        \"correct\": \"b\"\\n    },\\n    \"9\": {\\n        \"mcq\": \"Which statistical modeling paradigm did Leo Breiman distinguish in machine learning?\",\\n        \"options\": {\\n            \"a\": \"Data model and algorithmic model\",\\n            \"b\": \"Supervised learning and unsupervised learning\",\\n            \"c\": \"Probabilistic reasoning and symbolic methods\",\\n            \"d\": \"Optimization and generalization\"\\n        },\\n        \"correct\": \"a\"\\n    },\\n    \"10\": {\\n        \"mcq\": \"What does the Probably Approximately Correct Learning (PAC) model aim to describe in machine learning?\",\\n        \"options\": {\\n            \"a\": \"The complexity of the hypothesis should match the function underlying the data.\",\\n            \"b\": \"The feasibility of learning within a polynomial time frame.\",\\n            \"c\": \"The generalization of learning algorithms on new, unseen examples/tasks.\",\\n            \"d\": \"The ability of a learner to perform accurately on known knowledge.\"\\n        },\\n        \"correct\": \"c\"\\n    }\\n}',\n",
       " 'review': '\\n{\\n    \"1\": {\\n        \"mcq\": \"What is machine learning?\",\\n        \"options\": {\\n            \"a\": \"A field of study in artificial intelligence concerned with the development and study of statistical algorithms\",\\n            \"b\": \"A field of study in natural language processing\",\\n            \"c\": \"A field of study in robotics\",\\n            \"d\": \"A field of study in astronomy\"\\n        },\\n        \"correct\": \"a\"\\n    },\\n    \"2\": {\\n        \"mcq\": \"Who coined the term \\'machine learning\\' in 1959?\",\\n        \"options\": {\\n            \"a\": \"Arthur Samuel\",\\n            \"b\": \"Donald Hebb\",\\n            \"c\": \"Alan Turing\",\\n            \"d\": \"Tom M. Mitchell\"\\n        },\\n        \"correct\": \"a\"\\n    },\\n    \"3\": {\\n        \"mcq\": \"What was the earliest machine learning model introduced in the 1950s?\",\\n        \"options\": {\\n            \"a\": \"Program that calculated the winning chance in checkers\",\\n            \"b\": \"Program that calculated the winning chance in chess\",\\n            \"c\": \"Program that calculated the winning chance in poker\",\\n            \"d\": \"Program that calculated the winning chance in tic-tac-toe\"\\n        },\\n        \"correct\": \"a\"\\n    },\\n    \"4\": {\\n        \"mcq\": \"What did Donald Hebb introduce in his book \\'The Organization of Behavior\\' in 1949?\",\\n        \"options\": {\\n            \"a\": \"Theoretical neural structure formed by certain interactions among nerve cells\",\\n            \"b\": \"Theoretical structure of machine learning algorithms\",\\n            \"c\": \"Theoretical framework for artificial intelligence\",\\n            \"d\": \"Theoretical framework for data mining\"\\n        },\\n        \"correct\": \"a\"\\n    },\\n    \"5\": {\\n        \"mcq\": \"What is the main success of neural networks research in the mid-1980s?\",\\n        \"options\": {\\n            \"a\": \"Reinvention of backpropagation\",\\n            \"b\": \"Reinvention of expert systems\",\\n            \"c\": \"Reinvention of symbolic approaches\",\\n            \"d\": \"Reinvention of logical reasoning\"\\n        },\\n        \"correct\": \"a\"\\n    },\\n    \"6\": {\\n        \"mcq\": \"What is the main goal of machine learning in the 1990s?\",\\n        \"options\": {\\n            \"a\": \"Achieving artificial intelligence\",\\n            \"b\": \"Tackling solvable problems of a practical nature\",\\n            \"c\": \"Focusing on symbolic approaches inherited from AI\",\\n            \"d\": \"Using expert systems\"\\n        },\\n        \"correct\": \"b\"\\n    },\\n    \"7\": {\\n        \"mcq\": \"What is the primary difference between machine learning and data mining?\",\\n        \"options\": {\\n            \"a\": \"Machine learning focuses on prediction, data mining focuses on discovery\",\\n            \"b\": \"Machine learning focuses on discovery, data mining focuses on prediction\",\\n            \"c\": \"Machine learning is unsupervised, data mining is supervised\",\\n            \"d\": \"Machine learning is supervised, data mining is unsupervised\"\\n        },\\n        \"correct\": \"a\"\\n    },\\n    \"8\": {\\n        \"mcq\": \"What does the term \\'generalization\\' refer to in machine learning?\",\\n        \"options\": {\\n            \"a\": \"Minimization of loss on a training set\",\\n            \"b\": \"Minimization of loss on unseen samples\",\\n            \"c\": \"Maximization of loss on a training set\",\\n            \"d\": \"Maximization of loss on unseen samples\"\\n        },\\n        \"correct\": \"b\"\\n    },\\n    \"9\": {\\n        \"mcq\": \"What is the principal goal of statistics in comparison to machine learning?\",\\n        \"options\": {\\n            \"a\": \"Statistics focuses on prediction, machine learning focuses on population inferences\",\\n            \"b\": \"Statistics focuses on population inferences, machine learning focuses on prediction\",\\n            \"c\": \"Statistics is unsupervised, machine learning is supervised\",\\n            \"d\": \"Statistics is supervised, machine learning is unsupervised\"\\n        },\\n        \"correct\": \"b\"\\n    },\\n    \"10\": {\\n        \"mcq\": \"What is the branch of theoretical computer science that deals with the computational analysis of machine learning algorithms?\",\\n        \"options\": {\\n            \"a\": \"Computational physics\",\\n            \"b\": \"Computational biology\",\\n            \"c\": \"Computational learning theory\",\\n            \"d\": \"Computational chemistry\"\\n        },\\n        \"correct\": \"c\"\\n    }\\n}'}"
      ]
     },
     "execution_count": 27,
     "metadata": {},
     "output_type": "execute_result"
    }
   ],
   "source": [
    "response"
   ]
  },
  {
   "cell_type": "code",
   "execution_count": 29,
   "id": "ffb96b36-8890-47aa-b723-45c06ff021db",
   "metadata": {},
   "outputs": [],
   "source": [
    "# Response in json\n",
    "quiz_Str = response.get(\"quiz\")"
   ]
  },
  {
   "cell_type": "code",
   "execution_count": 30,
   "id": "036b8118-b226-4f63-8781-e4800b94cd05",
   "metadata": {},
   "outputs": [
    {
     "data": {
      "text/plain": [
       "'{\\n    \"1\": {\\n        \"mcq\": \"Who coined the term \\'machine learning\\'?\",\\n        \"options\": {\\n            \"a\": \"Alan Turing\",\\n            \"b\": \"Arthur Samuel\",\\n            \"c\": \"Donald Hebb\",\\n            \"d\": \"Tom M. Mitchell\"\\n        },\\n        \"correct\": \"b\"\\n    },\\n    \"2\": {\\n        \"mcq\": \"Which field of study focuses on exploratory data analysis through unsupervised learning?\",\\n        \"options\": {\\n            \"a\": \"Data mining\",\\n            \"b\": \"Artificial intelligence\",\\n            \"c\": \"Statistical physics\",\\n            \"d\": \"Predictive analytics\"\\n        },\\n        \"correct\": \"a\"\\n    },\\n    \"3\": {\\n        \"mcq\": \"What was the experimental \\'learning machine\\' developed by Raytheon Company in the early 1960s called?\",\\n        \"options\": {\\n            \"a\": \"Cybernet\",\\n            \"b\": \"Cybertron\",\\n            \"c\": \"Cyberspace\",\\n            \"d\": \"Cyberbot\"\\n        },\\n        \"correct\": \"b\"\\n    },\\n    \"4\": {\\n        \"mcq\": \"Which researcher introduced a theoretical neural structure formed by interactions among nerve cells in 1949?\",\\n        \"options\": {\\n            \"a\": \"Ray Kurzweil\",\\n            \"b\": \"Walter Pitts\",\\n            \"c\": \"Elon Musk\",\\n            \"d\": \"Mark Zuckerberg\"\\n        },\\n        \"correct\": \"b\"\\n    },\\n    \"5\": {\\n        \"mcq\": \"What is the main difference between machine learning and statistics?\",\\n        \"options\": {\\n            \"a\": \"Machine learning focuses on prediction, while statistics focuses on generalization.\",\\n            \"b\": \"Machine learning is built on pre-structured models, while statistics shapes the model based on data.\",\\n            \"c\": \"Machine learning draws population inferences from a sample, while statistics finds generalizable predictive patterns.\",\\n            \"d\": \"Statistics uses unsupervised learning, while machine learning employs supervised learning.\"\\n        },\\n        \"correct\": \"a\"\\n    },\\n    \"6\": {\\n        \"mcq\": \"What is the primary goal of machine learning?\",\\n        \"options\": {\\n            \"a\": \"To draw population inferences from a sample.\",\\n            \"b\": \"To build pre-structured models based on known properties.\",\\n            \"c\": \"To minimize loss on unseen samples and make accurate predictions.\",\\n            \"d\": \"To focus on theoretical tools and methodological principles.\"\\n        },\\n        \"correct\": \"c\"\\n    },\\n    \"7\": {\\n        \"mcq\": \"Which field of study uses computational learning theory to analyze the performance of algorithms?\",\\n        \"options\": {\\n            \"a\": \"Data mining\",\\n            \"b\": \"Artificial intelligence\",\\n            \"c\": \"Statistical physics\",\\n            \"d\": \"Machine learning\"\\n        },\\n        \"correct\": \"d\"\\n    },\\n    \"8\": {\\n        \"mcq\": \"What is the core objective of a learner in machine learning?\",\\n        \"options\": {\\n            \"a\": \"To draw population inferences from a sample.\",\\n            \"b\": \"To minimize loss on a training set of examples.\",\\n            \"c\": \"To build pre-structured models based on known properties.\",\\n            \"d\": \"To focus on theoretical tools and methodological principles.\"\\n        },\\n        \"correct\": \"b\"\\n    },\\n    \"9\": {\\n        \"mcq\": \"Which statistical modeling paradigm did Leo Breiman distinguish in machine learning?\",\\n        \"options\": {\\n            \"a\": \"Data model and algorithmic model\",\\n            \"b\": \"Supervised learning and unsupervised learning\",\\n            \"c\": \"Probabilistic reasoning and symbolic methods\",\\n            \"d\": \"Optimization and generalization\"\\n        },\\n        \"correct\": \"a\"\\n    },\\n    \"10\": {\\n        \"mcq\": \"What does the Probably Approximately Correct Learning (PAC) model aim to describe in machine learning?\",\\n        \"options\": {\\n            \"a\": \"The complexity of the hypothesis should match the function underlying the data.\",\\n            \"b\": \"The feasibility of learning within a polynomial time frame.\",\\n            \"c\": \"The generalization of learning algorithms on new, unseen examples/tasks.\",\\n            \"d\": \"The ability of a learner to perform accurately on known knowledge.\"\\n        },\\n        \"correct\": \"c\"\\n    }\\n}'"
      ]
     },
     "execution_count": 30,
     "metadata": {},
     "output_type": "execute_result"
    }
   ],
   "source": [
    "quiz_Str"
   ]
  },
  {
   "cell_type": "code",
   "execution_count": 31,
   "id": "3bf69f01-c9a9-4c52-98d3-85129dac5fd6",
   "metadata": {},
   "outputs": [],
   "source": [
    "# use the json.lods on the quiz to convert it from json to dict\n",
    "\n",
    "quiz = json.loads(quiz_Str)"
   ]
  },
  {
   "cell_type": "code",
   "execution_count": 32,
   "id": "38cbd4e6-2ee6-467e-bd8a-3b563510c9c7",
   "metadata": {},
   "outputs": [
    {
     "data": {
      "text/plain": [
       "{'1': {'mcq': \"Who coined the term 'machine learning'?\",\n",
       "  'options': {'a': 'Alan Turing',\n",
       "   'b': 'Arthur Samuel',\n",
       "   'c': 'Donald Hebb',\n",
       "   'd': 'Tom M. Mitchell'},\n",
       "  'correct': 'b'},\n",
       " '2': {'mcq': 'Which field of study focuses on exploratory data analysis through unsupervised learning?',\n",
       "  'options': {'a': 'Data mining',\n",
       "   'b': 'Artificial intelligence',\n",
       "   'c': 'Statistical physics',\n",
       "   'd': 'Predictive analytics'},\n",
       "  'correct': 'a'},\n",
       " '3': {'mcq': \"What was the experimental 'learning machine' developed by Raytheon Company in the early 1960s called?\",\n",
       "  'options': {'a': 'Cybernet',\n",
       "   'b': 'Cybertron',\n",
       "   'c': 'Cyberspace',\n",
       "   'd': 'Cyberbot'},\n",
       "  'correct': 'b'},\n",
       " '4': {'mcq': 'Which researcher introduced a theoretical neural structure formed by interactions among nerve cells in 1949?',\n",
       "  'options': {'a': 'Ray Kurzweil',\n",
       "   'b': 'Walter Pitts',\n",
       "   'c': 'Elon Musk',\n",
       "   'd': 'Mark Zuckerberg'},\n",
       "  'correct': 'b'},\n",
       " '5': {'mcq': 'What is the main difference between machine learning and statistics?',\n",
       "  'options': {'a': 'Machine learning focuses on prediction, while statistics focuses on generalization.',\n",
       "   'b': 'Machine learning is built on pre-structured models, while statistics shapes the model based on data.',\n",
       "   'c': 'Machine learning draws population inferences from a sample, while statistics finds generalizable predictive patterns.',\n",
       "   'd': 'Statistics uses unsupervised learning, while machine learning employs supervised learning.'},\n",
       "  'correct': 'a'},\n",
       " '6': {'mcq': 'What is the primary goal of machine learning?',\n",
       "  'options': {'a': 'To draw population inferences from a sample.',\n",
       "   'b': 'To build pre-structured models based on known properties.',\n",
       "   'c': 'To minimize loss on unseen samples and make accurate predictions.',\n",
       "   'd': 'To focus on theoretical tools and methodological principles.'},\n",
       "  'correct': 'c'},\n",
       " '7': {'mcq': 'Which field of study uses computational learning theory to analyze the performance of algorithms?',\n",
       "  'options': {'a': 'Data mining',\n",
       "   'b': 'Artificial intelligence',\n",
       "   'c': 'Statistical physics',\n",
       "   'd': 'Machine learning'},\n",
       "  'correct': 'd'},\n",
       " '8': {'mcq': 'What is the core objective of a learner in machine learning?',\n",
       "  'options': {'a': 'To draw population inferences from a sample.',\n",
       "   'b': 'To minimize loss on a training set of examples.',\n",
       "   'c': 'To build pre-structured models based on known properties.',\n",
       "   'd': 'To focus on theoretical tools and methodological principles.'},\n",
       "  'correct': 'b'},\n",
       " '9': {'mcq': 'Which statistical modeling paradigm did Leo Breiman distinguish in machine learning?',\n",
       "  'options': {'a': 'Data model and algorithmic model',\n",
       "   'b': 'Supervised learning and unsupervised learning',\n",
       "   'c': 'Probabilistic reasoning and symbolic methods',\n",
       "   'd': 'Optimization and generalization'},\n",
       "  'correct': 'a'},\n",
       " '10': {'mcq': 'What does the Probably Approximately Correct Learning (PAC) model aim to describe in machine learning?',\n",
       "  'options': {'a': 'The complexity of the hypothesis should match the function underlying the data.',\n",
       "   'b': 'The feasibility of learning within a polynomial time frame.',\n",
       "   'c': 'The generalization of learning algorithms on new, unseen examples/tasks.',\n",
       "   'd': 'The ability of a learner to perform accurately on known knowledge.'},\n",
       "  'correct': 'c'}}"
      ]
     },
     "execution_count": 32,
     "metadata": {},
     "output_type": "execute_result"
    }
   ],
   "source": [
    "quiz"
   ]
  },
  {
   "cell_type": "code",
   "execution_count": 37,
   "id": "8bc35826-74cb-4b2b-8f87-db42650d84b7",
   "metadata": {},
   "outputs": [],
   "source": [
    "# Convert dict to table\n",
    "\n",
    "quiz_table_data = []\n",
    "\n",
    "for key, value in quiz.items():\n",
    "    mcq = value[\"mcq\"]\n",
    "    options = \" | \" .join(\n",
    "        [\n",
    "            f\"{option}: {option_value}\"\n",
    "            for option, option_value in value[\"options\"].items()\n",
    "        ]\n",
    "    )\n",
    "    correct = value[\"correct\"]\n",
    "    quiz_table_data.append({\"MCQ\":mcq,\n",
    "                               \"Choices\": options,\n",
    "                               \"Correct\": correct})\n"
   ]
  },
  {
   "cell_type": "code",
   "execution_count": 38,
   "id": "3f7faf92-32c2-4389-8a03-bb50f774ca99",
   "metadata": {},
   "outputs": [
    {
     "data": {
      "text/plain": [
       "[{'MCQ': \"Who coined the term 'machine learning'?\",\n",
       "  'Choices': 'a: Alan Turing | b: Arthur Samuel | c: Donald Hebb | d: Tom M. Mitchell',\n",
       "  'Correct': 'b'},\n",
       " {'MCQ': 'Which field of study focuses on exploratory data analysis through unsupervised learning?',\n",
       "  'Choices': 'a: Data mining | b: Artificial intelligence | c: Statistical physics | d: Predictive analytics',\n",
       "  'Correct': 'a'},\n",
       " {'MCQ': \"What was the experimental 'learning machine' developed by Raytheon Company in the early 1960s called?\",\n",
       "  'Choices': 'a: Cybernet | b: Cybertron | c: Cyberspace | d: Cyberbot',\n",
       "  'Correct': 'b'},\n",
       " {'MCQ': 'Which researcher introduced a theoretical neural structure formed by interactions among nerve cells in 1949?',\n",
       "  'Choices': 'a: Ray Kurzweil | b: Walter Pitts | c: Elon Musk | d: Mark Zuckerberg',\n",
       "  'Correct': 'b'},\n",
       " {'MCQ': 'What is the main difference between machine learning and statistics?',\n",
       "  'Choices': 'a: Machine learning focuses on prediction, while statistics focuses on generalization. | b: Machine learning is built on pre-structured models, while statistics shapes the model based on data. | c: Machine learning draws population inferences from a sample, while statistics finds generalizable predictive patterns. | d: Statistics uses unsupervised learning, while machine learning employs supervised learning.',\n",
       "  'Correct': 'a'},\n",
       " {'MCQ': 'What is the primary goal of machine learning?',\n",
       "  'Choices': 'a: To draw population inferences from a sample. | b: To build pre-structured models based on known properties. | c: To minimize loss on unseen samples and make accurate predictions. | d: To focus on theoretical tools and methodological principles.',\n",
       "  'Correct': 'c'},\n",
       " {'MCQ': 'Which field of study uses computational learning theory to analyze the performance of algorithms?',\n",
       "  'Choices': 'a: Data mining | b: Artificial intelligence | c: Statistical physics | d: Machine learning',\n",
       "  'Correct': 'd'},\n",
       " {'MCQ': 'What is the core objective of a learner in machine learning?',\n",
       "  'Choices': 'a: To draw population inferences from a sample. | b: To minimize loss on a training set of examples. | c: To build pre-structured models based on known properties. | d: To focus on theoretical tools and methodological principles.',\n",
       "  'Correct': 'b'},\n",
       " {'MCQ': 'Which statistical modeling paradigm did Leo Breiman distinguish in machine learning?',\n",
       "  'Choices': 'a: Data model and algorithmic model | b: Supervised learning and unsupervised learning | c: Probabilistic reasoning and symbolic methods | d: Optimization and generalization',\n",
       "  'Correct': 'a'},\n",
       " {'MCQ': 'What does the Probably Approximately Correct Learning (PAC) model aim to describe in machine learning?',\n",
       "  'Choices': 'a: The complexity of the hypothesis should match the function underlying the data. | b: The feasibility of learning within a polynomial time frame. | c: The generalization of learning algorithms on new, unseen examples/tasks. | d: The ability of a learner to perform accurately on known knowledge.',\n",
       "  'Correct': 'c'}]"
      ]
     },
     "execution_count": 38,
     "metadata": {},
     "output_type": "execute_result"
    }
   ],
   "source": [
    "quiz_table_data"
   ]
  },
  {
   "cell_type": "code",
   "execution_count": 39,
   "id": "579449ce-5ff2-4ed1-99fd-4b9e154b1b4c",
   "metadata": {},
   "outputs": [
    {
     "data": {
      "text/html": [
       "<div>\n",
       "<style scoped>\n",
       "    .dataframe tbody tr th:only-of-type {\n",
       "        vertical-align: middle;\n",
       "    }\n",
       "\n",
       "    .dataframe tbody tr th {\n",
       "        vertical-align: top;\n",
       "    }\n",
       "\n",
       "    .dataframe thead th {\n",
       "        text-align: right;\n",
       "    }\n",
       "</style>\n",
       "<table border=\"1\" class=\"dataframe\">\n",
       "  <thead>\n",
       "    <tr style=\"text-align: right;\">\n",
       "      <th></th>\n",
       "      <th>MCQ</th>\n",
       "      <th>Choices</th>\n",
       "      <th>Correct</th>\n",
       "    </tr>\n",
       "  </thead>\n",
       "  <tbody>\n",
       "    <tr>\n",
       "      <th>0</th>\n",
       "      <td>Who coined the term 'machine learning'?</td>\n",
       "      <td>a: Alan Turing | b: Arthur Samuel | c: Donald ...</td>\n",
       "      <td>b</td>\n",
       "    </tr>\n",
       "    <tr>\n",
       "      <th>1</th>\n",
       "      <td>Which field of study focuses on exploratory da...</td>\n",
       "      <td>a: Data mining | b: Artificial intelligence | ...</td>\n",
       "      <td>a</td>\n",
       "    </tr>\n",
       "    <tr>\n",
       "      <th>2</th>\n",
       "      <td>What was the experimental 'learning machine' d...</td>\n",
       "      <td>a: Cybernet | b: Cybertron | c: Cyberspace | d...</td>\n",
       "      <td>b</td>\n",
       "    </tr>\n",
       "    <tr>\n",
       "      <th>3</th>\n",
       "      <td>Which researcher introduced a theoretical neur...</td>\n",
       "      <td>a: Ray Kurzweil | b: Walter Pitts | c: Elon Mu...</td>\n",
       "      <td>b</td>\n",
       "    </tr>\n",
       "    <tr>\n",
       "      <th>4</th>\n",
       "      <td>What is the main difference between machine le...</td>\n",
       "      <td>a: Machine learning focuses on prediction, whi...</td>\n",
       "      <td>a</td>\n",
       "    </tr>\n",
       "    <tr>\n",
       "      <th>5</th>\n",
       "      <td>What is the primary goal of machine learning?</td>\n",
       "      <td>a: To draw population inferences from a sample...</td>\n",
       "      <td>c</td>\n",
       "    </tr>\n",
       "    <tr>\n",
       "      <th>6</th>\n",
       "      <td>Which field of study uses computational learni...</td>\n",
       "      <td>a: Data mining | b: Artificial intelligence | ...</td>\n",
       "      <td>d</td>\n",
       "    </tr>\n",
       "    <tr>\n",
       "      <th>7</th>\n",
       "      <td>What is the core objective of a learner in mac...</td>\n",
       "      <td>a: To draw population inferences from a sample...</td>\n",
       "      <td>b</td>\n",
       "    </tr>\n",
       "    <tr>\n",
       "      <th>8</th>\n",
       "      <td>Which statistical modeling paradigm did Leo Br...</td>\n",
       "      <td>a: Data model and algorithmic model | b: Super...</td>\n",
       "      <td>a</td>\n",
       "    </tr>\n",
       "    <tr>\n",
       "      <th>9</th>\n",
       "      <td>What does the Probably Approximately Correct L...</td>\n",
       "      <td>a: The complexity of the hypothesis should mat...</td>\n",
       "      <td>c</td>\n",
       "    </tr>\n",
       "  </tbody>\n",
       "</table>\n",
       "</div>"
      ],
      "text/plain": [
       "                                                 MCQ  \\\n",
       "0            Who coined the term 'machine learning'?   \n",
       "1  Which field of study focuses on exploratory da...   \n",
       "2  What was the experimental 'learning machine' d...   \n",
       "3  Which researcher introduced a theoretical neur...   \n",
       "4  What is the main difference between machine le...   \n",
       "5      What is the primary goal of machine learning?   \n",
       "6  Which field of study uses computational learni...   \n",
       "7  What is the core objective of a learner in mac...   \n",
       "8  Which statistical modeling paradigm did Leo Br...   \n",
       "9  What does the Probably Approximately Correct L...   \n",
       "\n",
       "                                             Choices Correct  \n",
       "0  a: Alan Turing | b: Arthur Samuel | c: Donald ...       b  \n",
       "1  a: Data mining | b: Artificial intelligence | ...       a  \n",
       "2  a: Cybernet | b: Cybertron | c: Cyberspace | d...       b  \n",
       "3  a: Ray Kurzweil | b: Walter Pitts | c: Elon Mu...       b  \n",
       "4  a: Machine learning focuses on prediction, whi...       a  \n",
       "5  a: To draw population inferences from a sample...       c  \n",
       "6  a: Data mining | b: Artificial intelligence | ...       d  \n",
       "7  a: To draw population inferences from a sample...       b  \n",
       "8  a: Data model and algorithmic model | b: Super...       a  \n",
       "9  a: The complexity of the hypothesis should mat...       c  "
      ]
     },
     "execution_count": 39,
     "metadata": {},
     "output_type": "execute_result"
    }
   ],
   "source": [
    "pd.DataFrame(quiz_table_data)"
   ]
  },
  {
   "cell_type": "code",
   "execution_count": 42,
   "id": "b51ea3cc-07a2-496c-a968-37f1f3de544b",
   "metadata": {},
   "outputs": [
    {
     "data": {
      "text/html": [
       "<div>\n",
       "<style scoped>\n",
       "    .dataframe tbody tr th:only-of-type {\n",
       "        vertical-align: middle;\n",
       "    }\n",
       "\n",
       "    .dataframe tbody tr th {\n",
       "        vertical-align: top;\n",
       "    }\n",
       "\n",
       "    .dataframe thead th {\n",
       "        text-align: right;\n",
       "    }\n",
       "</style>\n",
       "<table border=\"1\" class=\"dataframe\">\n",
       "  <thead>\n",
       "    <tr style=\"text-align: right;\">\n",
       "      <th></th>\n",
       "      <th>MCQ</th>\n",
       "      <th>Choices</th>\n",
       "      <th>Correct</th>\n",
       "    </tr>\n",
       "  </thead>\n",
       "  <tbody>\n",
       "    <tr>\n",
       "      <th>0</th>\n",
       "      <td>Who coined the term 'machine learning'?</td>\n",
       "      <td>a: Alan Turing | b: Arthur Samuel | c: Donald ...</td>\n",
       "      <td>b</td>\n",
       "    </tr>\n",
       "    <tr>\n",
       "      <th>1</th>\n",
       "      <td>Which field of study focuses on exploratory da...</td>\n",
       "      <td>a: Data mining | b: Artificial intelligence | ...</td>\n",
       "      <td>a</td>\n",
       "    </tr>\n",
       "    <tr>\n",
       "      <th>2</th>\n",
       "      <td>What was the experimental 'learning machine' d...</td>\n",
       "      <td>a: Cybernet | b: Cybertron | c: Cyberspace | d...</td>\n",
       "      <td>b</td>\n",
       "    </tr>\n",
       "    <tr>\n",
       "      <th>3</th>\n",
       "      <td>Which researcher introduced a theoretical neur...</td>\n",
       "      <td>a: Ray Kurzweil | b: Walter Pitts | c: Elon Mu...</td>\n",
       "      <td>b</td>\n",
       "    </tr>\n",
       "    <tr>\n",
       "      <th>4</th>\n",
       "      <td>What is the main difference between machine le...</td>\n",
       "      <td>a: Machine learning focuses on prediction, whi...</td>\n",
       "      <td>a</td>\n",
       "    </tr>\n",
       "    <tr>\n",
       "      <th>5</th>\n",
       "      <td>What is the primary goal of machine learning?</td>\n",
       "      <td>a: To draw population inferences from a sample...</td>\n",
       "      <td>c</td>\n",
       "    </tr>\n",
       "    <tr>\n",
       "      <th>6</th>\n",
       "      <td>Which field of study uses computational learni...</td>\n",
       "      <td>a: Data mining | b: Artificial intelligence | ...</td>\n",
       "      <td>d</td>\n",
       "    </tr>\n",
       "    <tr>\n",
       "      <th>7</th>\n",
       "      <td>What is the core objective of a learner in mac...</td>\n",
       "      <td>a: To draw population inferences from a sample...</td>\n",
       "      <td>b</td>\n",
       "    </tr>\n",
       "    <tr>\n",
       "      <th>8</th>\n",
       "      <td>Which statistical modeling paradigm did Leo Br...</td>\n",
       "      <td>a: Data model and algorithmic model | b: Super...</td>\n",
       "      <td>a</td>\n",
       "    </tr>\n",
       "    <tr>\n",
       "      <th>9</th>\n",
       "      <td>What does the Probably Approximately Correct L...</td>\n",
       "      <td>a: The complexity of the hypothesis should mat...</td>\n",
       "      <td>c</td>\n",
       "    </tr>\n",
       "  </tbody>\n",
       "</table>\n",
       "</div>"
      ],
      "text/plain": [
       "                                                 MCQ  \\\n",
       "0            Who coined the term 'machine learning'?   \n",
       "1  Which field of study focuses on exploratory da...   \n",
       "2  What was the experimental 'learning machine' d...   \n",
       "3  Which researcher introduced a theoretical neur...   \n",
       "4  What is the main difference between machine le...   \n",
       "5      What is the primary goal of machine learning?   \n",
       "6  Which field of study uses computational learni...   \n",
       "7  What is the core objective of a learner in mac...   \n",
       "8  Which statistical modeling paradigm did Leo Br...   \n",
       "9  What does the Probably Approximately Correct L...   \n",
       "\n",
       "                                             Choices Correct  \n",
       "0  a: Alan Turing | b: Arthur Samuel | c: Donald ...       b  \n",
       "1  a: Data mining | b: Artificial intelligence | ...       a  \n",
       "2  a: Cybernet | b: Cybertron | c: Cyberspace | d...       b  \n",
       "3  a: Ray Kurzweil | b: Walter Pitts | c: Elon Mu...       b  \n",
       "4  a: Machine learning focuses on prediction, whi...       a  \n",
       "5  a: To draw population inferences from a sample...       c  \n",
       "6  a: Data mining | b: Artificial intelligence | ...       d  \n",
       "7  a: To draw population inferences from a sample...       b  \n",
       "8  a: Data model and algorithmic model | b: Super...       a  \n",
       "9  a: The complexity of the hypothesis should mat...       c  "
      ]
     },
     "execution_count": 42,
     "metadata": {},
     "output_type": "execute_result"
    }
   ],
   "source": [
    "df = pd.DataFrame(quiz_table_data)\n",
    "df"
   ]
  },
  {
   "cell_type": "code",
   "execution_count": 43,
   "id": "b2a790ab-27c0-46e7-b141-f4438c3d568d",
   "metadata": {},
   "outputs": [],
   "source": [
    "df.to_csv(\"machine_learning_quiz.csv\", index = False)"
   ]
  },
  {
   "cell_type": "code",
   "execution_count": null,
   "id": "784e6423-cc89-4625-84b0-436617dfa3ae",
   "metadata": {},
   "outputs": [],
   "source": [
    "# Assignment\n",
    "-> Create fill in the blank questions"
   ]
  }
 ],
 "metadata": {
  "kernelspec": {
   "display_name": "Python 3 (ipykernel)",
   "language": "python",
   "name": "python3"
  },
  "language_info": {
   "codemirror_mode": {
    "name": "ipython",
    "version": 3
   },
   "file_extension": ".py",
   "mimetype": "text/x-python",
   "name": "python",
   "nbconvert_exporter": "python",
   "pygments_lexer": "ipython3",
   "version": "3.10.15"
  }
 },
 "nbformat": 4,
 "nbformat_minor": 5
}
